{
 "cells": [
  {
   "cell_type": "code",
   "execution_count": 3,
   "metadata": {},
   "outputs": [],
   "source": [
    "import faker\n",
    "from datetime import datetime, timedelta\n",
    "import random\n",
    "import psycopg2"
   ]
  },
  {
   "cell_type": "code",
   "execution_count": 3,
   "metadata": {},
   "outputs": [],
   "source": [
    "fake = faker.Faker()"
   ]
  },
  {
   "cell_type": "code",
   "execution_count": 8,
   "metadata": {},
   "outputs": [
    {
     "data": {
      "text/plain": [
       "{'username': 'vroy',\n",
       " 'name': 'Christina Myers',\n",
       " 'sex': 'F',\n",
       " 'address': '211 Nolan Run\\nPort Jill, WY 21238',\n",
       " 'mail': 'lauralynch@yahoo.com',\n",
       " 'birthdate': datetime.date(1989, 4, 15)}"
      ]
     },
     "execution_count": 8,
     "metadata": {},
     "output_type": "execute_result"
    }
   ],
   "source": [
    "user = fake.simple_profile()\n",
    "user"
   ]
  },
  {
   "cell_type": "code",
   "execution_count": 37,
   "metadata": {},
   "outputs": [],
   "source": [
    "def generate_timestamp_utc7():\n",
    "    now = datetime.utcnow()\n",
    "    offset = timedelta(hours=7)\n",
    "\n",
    "    # Convert the timestamp to a datetime object\n",
    "    datetime_object = datetime.fromtimestamp(timestamp)\n",
    "\n",
    "    # Add the offset to the datetime object\n",
    "    datetime_object_utc_plus_7 = datetime_object + offset\n",
    "\n",
    "    return datetime_object_utc_plus_7.timestamp()\n",
    "\n",
    "def generate_transaction():\n",
    "    user = fake.simple_profile()\n",
    "    return {\n",
    "        'transaction_id': fake.uuid4(),\n",
    "        'user_id': user['username'],\n",
    "        'timestamp': generate_timestamp_utc7(),\n",
    "        'amount': round(random.uniform(10,1000),2),\n",
    "        'currency': random.choice(['USD', 'GBP']),\n",
    "        'city': fake.city(),\n",
    "        'country': fake.country(),\n",
    "        'merchant_name': fake.company(),\n",
    "        'payment_method': random.choice(['credit_card', 'debit_card', 'online_transfer']),\n",
    "        'ip_address': fake.ipv4(),\n",
    "        \"voucherCode\": random.choice(['', 'DISCOUNT10', '']),\n",
    "        'affiliateId': fake.uuid4()\n",
    "    }"
   ]
  },
  {
   "cell_type": "code",
   "execution_count": 16,
   "metadata": {},
   "outputs": [],
   "source": [
    "def generate_timestamp_utc7():\n",
    "    now = datetime.utcnow()\n",
    "    offset = timedelta(hours=7)\n",
    "\n",
    "    # Add the offset to the datetime object\n",
    "    datetime_object_utc_plus_7 = now + offset\n",
    "\n",
    "    return datetime_object_utc_plus_7.timestamp()"
   ]
  },
  {
   "cell_type": "code",
   "execution_count": 18,
   "metadata": {},
   "outputs": [],
   "source": [
    "test = generate_timestamp_utc7()"
   ]
  },
  {
   "cell_type": "code",
   "execution_count": 19,
   "metadata": {},
   "outputs": [
    {
     "data": {
      "text/plain": [
       "'2023-12-08 14:31:33'"
      ]
     },
     "execution_count": 19,
     "metadata": {},
     "output_type": "execute_result"
    }
   ],
   "source": [
    "datetime.fromtimestamp(test).strftime('%Y-%m-%d %H:%M:%S')"
   ]
  },
  {
   "cell_type": "code",
   "execution_count": null,
   "metadata": {},
   "outputs": [],
   "source": []
  }
 ],
 "metadata": {
  "kernelspec": {
   "display_name": "base",
   "language": "python",
   "name": "python3"
  },
  "language_info": {
   "codemirror_mode": {
    "name": "ipython",
    "version": 3
   },
   "file_extension": ".py",
   "mimetype": "text/x-python",
   "name": "python",
   "nbconvert_exporter": "python",
   "pygments_lexer": "ipython3",
   "version": "3.11.5"
  }
 },
 "nbformat": 4,
 "nbformat_minor": 2
}
